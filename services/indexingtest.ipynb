{
 "cells": [
  {
   "cell_type": "markdown",
   "metadata": {},
   "source": [
    "## Test Environment for completing task 3"
   ]
  },
  {
   "cell_type": "code",
   "execution_count": 1,
   "metadata": {},
   "outputs": [
    {
     "name": "stdout",
     "output_type": "stream",
     "text": [
      "Elasticsearch instantiated? True\n"
     ]
    }
   ],
   "source": [
    "from elasticsearch import Elasticsearch, exceptions\n",
    "from tokenizer import porter_processing\n",
    "\n",
    "es = Elasticsearch([{\"host\":\"localhost\",\"port\":9200, \"scheme\": \"http\"}])\n",
    "print(f\"Elasticsearch instantiated? {es.ping()}\")"
   ]
  },
  {
   "cell_type": "markdown",
   "metadata": {},
   "source": [
    "### Getting mtermvector data"
   ]
  },
  {
   "cell_type": "code",
   "execution_count": 2,
   "metadata": {},
   "outputs": [],
   "source": [
    "response = es.mtermvectors(index=\"ap89_final\",term_statistics= True, ids = [\"AP891023-0169\"], fields = \"_content\")\n",
    "\n",
    "import json\n",
    "\n",
    "file_path = 'mtermvectors_response.json'\n",
    "\n",
    "with open(file_path, 'w') as file:\n",
    "    json.dump(response, file, indent=2)"
   ]
  },
  {
   "cell_type": "markdown",
   "metadata": {},
   "source": [
    "### Processing the query"
   ]
  },
  {
   "cell_type": "code",
   "execution_count": 3,
   "metadata": {},
   "outputs": [
    {
     "name": "stdout",
     "output_type": "stream",
     "text": [
      "Entered tokenizer\n",
      "Exit tokenizer\n",
      "{'took': 9, 'timed_out': False, '_shards': {'total': 1, 'successful': 1, 'skipped': 0, 'failed': 0}, 'hits': {'total': {'value': 10000, 'relation': 'gte'}, 'max_score': 24.236298, 'hits': [{'_index': 'ap89_final', '_type': '_doc', '_id': 'AP890706-0122', '_score': 24.236298, '_source': {'_content': 'follow project exampl equal urgent east west europ transeuropean highspe railway common european program new solarenergi technolog equip process store nuclear wast enhanc safeti nuclear power station addit fiber optic channel transmit inform alleuropean satellit tv system intern thermonuclear experiment reactor'}}, {'_index': 'ap89_final', '_type': '_doc', '_id': 'AP890913-0208', '_score': 22.392181, '_source': {'_content': 'commerc secretari robert mosbach call wednesday structur chang japan economi fewer trade barrier allow unit state compet japan benefit japanes consum plight japanes consum pay highest price world hous food result directli countri close market mosbach ask right come compet told report 15day trip asia eastern europ aid travel mosbach meet wednesday offici post telecommun ministri produc nonrespons number concern unit state access market satellit digit switch equip optic fiber mosbach join governmentsponsor meet 83 foreign compani busi japan seri forum meant expand import hikaru matsunaga japan minist intern trade industri told group import rose 113 percent half 1989 mosbach acknowledg area japan voluntarili limit export unit state steel textil semiconductor machin tool unit state largest open market world unfortun japan close 52 billion merchandis trade deficit japan high note declin 32 percent peak third quarter 1987 mosbach unit state work reduc feder budget deficit increas domest save lower cost capit emphas longterm busi plan ask japan produc urgent made japan solut problem exportl econom success caus unit state instanc cumbersom distribut system japan lower price japan june unemploy rate 22 percent say pare distribut system elimin job respons critic unit state push japan fundament chang way life boost competit mosbach cultur affect rest world time temper individu entrepreneur part geniu temper degre challeng competit abroad japan consid way'}}, {'_index': 'ap89_final', '_type': '_doc', '_id': 'AP891115-0200', '_score': 20.239588, '_source': {'_content': 'metropolitan fiber system announc wednesday file petit justic depart feder commun commiss allow altern telecommun carrier compet local telephon access servic action logic extens histor regulatori polici design gener competit telecommun industri anthoni j pompliano presid mf base chicago suburb oakbrook terrac ill current region bell oper compani local phone access longdist carrier nearli 50 cent dollar spent longdist servic goe bell compani access fee total 20 billion pompliano compani ask justic depart enforc modifi final judgment requir local access unbundl fullest extent possibl permit fair equit competit ask fcc mandat altern local telecommun carrier costeffect interconnect locat equip bell facil mean mf similar altern carrier instal equip bellown switch site hook user commun bell network pompliano comment announc gray collin bell atlant senior vice presid extern affair metropolitan fiber free bell atlant servic way want free connect network bell atlant metropolitan fiber demand demand colloc effect abil set shop store bell atlant legal oblig agre meet number metropolitan request collin bill mccloskey spokesman bellsouth mf action petit appear propos confus telephon industri appear offer new servic residenti custom appear design benefit highvolum user special busi servic bob jasinski public relat manag nynex comment announc metropolitan fiber system simpli confirm fact there grow competit telecommun market serv region hold compani ad nynex stand readi consid reason request interconnect help ensur custom demand met mf current oper fiber optic commun network chicago philadelphia baltimor boston minneapoli san francisco network lo angel houston complet end compani plan construct network pittsburgh dalla new york washington pompliano problem have singl supplier exclus control local access busi lack competit provid incent respons custom need offer new servic lower rate altern local telecommun carrier mf allow offer access servic technolog improv ahead current project rate local access drop mf chief'}}, {'_index': 'ap89_final', '_type': '_doc', '_id': 'AP890219-0090', '_score': 20.18828, '_source': {'_content': 'author arrest two peopl charg tri give topsecret nato document soviet union inform new comput system direct entir battl news report sunday arrest broke two kgb oper report biggest counterespionag oper europ recent year rome la repubblica prosecutor polic confirm two peopl arrest espionag refus give detail say investig continu italian news agenc agi report sunday arrest end two separ kgb oper itali report affair carri newspap staterun rai televis identifi arrest giorgio stancich electron technician live yugoslavia natalino francal fur dealer pontedera near pisa francal 51 arrest feb 11 ligurian port citi la spezia stancich 42 arrest thursday near adriat port triest report newspap francal travel eastern europ busi rai arrest connect nato research antisubmarin warfar agi francal link alleg soviet effort procur inform make fiber optic industri militari stancich work iret joint italianyugoslavian firm triest manufactur electron commun system civilian militari report commut work skofj border yugoslavia live report stancich arrest tri cross border document relat highli advanc electron warfar project known catrin sophist system destin nato project develop involv comput system capabl direct activ entir battefield ground air oper report milan corrier della sera report oper coordin yugoslav border kgb agent appar work knowledg yugoslav govern newspap quot unidentifi sourc identifi agent former tass news agenc correspond rome rai classifi inform yugoslavia kgb agent austria agi oper kgb seek obtain inform technolog otomelara la spezia firm make fiber optic italian agent pose supplier inform discov two italian bring inform technolog kgb vienna agi two italian francal man escap unidentifi countri'}}, {'_index': 'ap89_final', '_type': '_doc', '_id': 'AP890413-0008', '_score': 19.758522, '_source': {'_content': 'experiment devic take pictur blood vessel peopl time develop see signific applic two patient today watch dr christoph white wednesday kept tell turn tv doc explain import tv wed show videotap later ochsner medic institut suburban new orlean hospit hire white partner dr stephen rame got armi juli start clinic trial gadet percutan coronari angioscop great interest abl coronari arteri patient type devic import applic dr albert raizner director cardiac catheter laboratori methodist hospit houston associ professor baylor colleg medicin machin made advanc cardiovascular system mountain view calif approv trial food drug administr four hospit white test expect start month fiber optic least decad look digest tract recent year optic fiber small blood vessel white angioscop rame engin tom doyl design smaller market smaller arteri tripl tube plastic onequart inch wide section hold 2000 extrem thin optic fiber bundl smaller circumfer pencil lead second hollow tube carri medicin salin solut third hold tini balloon sort flatten cholesterol plaqu procedur call balloon angioplasti xray guidanc system rout tripl tube blood vessel top leg heart doctor balloon fill liquid tini amount salin pump clear away opaqu blood major refin machin white japanes machin market reli flush salt water arteri clear away blood devic prove safe expect blood clot cholesterol plaqu spasm arteri caus heart attack white treat differ doctor cant treatment doctor drip medicin dissolv clot precis spot need stop drip soon clot disappear'}}, {'_index': 'ap89_final', '_type': '_doc', '_id': 'AP890320-0153', '_score': 18.853994, '_source': {'_content': 'armi monday conduct special onetim evalu nightvis goggl inventori ensur devic safe aviat servic brief statement evalu involv 12700 devic requir least two week possibl complet evalu two model night vision goggl two model suspend flight ago safeti question began aris critic question goggl function properli moon cloudi weather recent publish report 37 41 armi helicopt crash 1978 night goggl occur moonlight devic amplifi recent incid night vision goggl question occur ago night march 12 ch3e helicopt assign air forc reserv crash near tucson ariz ferri soldier train rang fifteen servicemen die accid capt carlo roqu spokesman davismonthan air forc base helicopt base crewmen chopper wear goggl night investig determin goggl factor accid roqu evalu conduct experienc armi pilot take 20 minut lt col greg rixon armi spokesman perform ground special light room rixon armi inspect aim elimin stockpil goggl suffer distort problem identifi time ago lightamplifi tube goggl builtin twist optic fiber line produc distort len made properli explain goggl flight go evalu rixon problem goggl clear problem take 45 minut chang tube spokesman cost replac goggl tube rang 1100 5000 depend model'}}, {'_index': 'ap89_final', '_type': '_doc', '_id': 'AP891208-0285', '_score': 18.367804, '_source': {'_content': 'commerc depart begun studi lead overhaul age radio frequenc alloc system sieg cellular telephon pager muscular new technolog highdefinit televis nation telecommun inform administr part commerc depart invit public comment thursday manag radio frequenc spectrum step studi establish spectrum polici foundat lead unit state 21st centuri studi major examin radio spectrum late 1960 studi address regulatori process alloc altern apport spectrum spectrum conserv new technolog forecast futur spectrum requir new technolog promis effici airwav share frequenc caus interfer feder regul hamper current system award block space categori user regardless block ultim head commerc depart agenc janic obuchowski chang technolog coupl explos growth demand make spectrum reform necessari today potenti feasibl past year increas demand airspac accommod cellular telephon new commun devic develop wristsiz pager automobil track equip highdefinit televis realiti decad frequenc spectrum uhf televis station end share airwav new technolog govern critic frequenc alloc effici hous consid bill rep john dingel dmich requir govern relinquish frequenc privat commerc depart agenc studi examin possibl chang current spectrum alloc system increas share airwav govern privat user user abl switch new deliveri system fiber optic cabl radio system fix transmitt receiv link fiber vastli greater capac need longdist amplif comparis copper wire coaxial cabl obuchowski acknowleg difficult persuad exist user give way agenc recommend adopt feder commun commiss mean radic chang spectrum alloc make obsolet billion dollar worth radio televis equip favor auction spectrum new commerci licens leas way govern leas public land graze oil explor obuchowski hope studi complet'}}, {'_index': 'ap89_final', '_type': '_doc', '_id': 'AP890306-0286', '_score': 17.875324, '_source': {'_content': 'bridg build train plane monitor structur wellb sound scienc fiction theyr result new technolog let scientist test thing destroy work reinvent wheel make work better physicist joseph s heyman run nondestruct evalu laboratori start 1971 nasa langley research center lab use array measur techniqu thermal diffus ultrason acoust magnet xray laser holographi probe intern defect object space shuttl solid rocket motor satellit airplan wing train wheel railroad track ordinari bolt smart materi take care investig incopor sensor directli materi heyman easi fiberlik materi composit fiber optic line buri structur aircraft wing made way appli larger structur space station technolog especi critic space station expect built the laser holographi probe intern defect object space shuttl solid rocket motor satellit airplan wing train wheel railroad track ordinari bolt smart materi take care investig incopor sensor directli materi heyman easi fiberlik materi composit fiber optic line buri structur aircraft wing made way appli larger structur space station technolog especi critic space station expect built 1990 perman orbit platform bombard cosmic dust stress temperatur differ glamor bridg build oil platform pipelin measur strain stress temperatur heyman smart materi sens malfunct major problem develop nervou system build abl sens help im talk structur sensor measur phenomen sensit'}}, {'_index': 'ap89_final', '_type': '_doc', '_id': 'AP890619-0296', '_score': 17.6368, '_source': {'_content': 'patent guard dog innov gain strength attent america line defens purloin corpor ingenu unpreced number applic flood patent trademark offic expect 156000 5 percent court side holder patent trademark copyright phrase intellectu properti enter lexicon emerg knowledgebas economi interest american industri steel cloth microwav oven run scare your undisput leader technolog patent import pretti call shot that 30 year ago michael blommer execut director american intellectu properti law associ today unit state lost lead technolog patent import that protect critic say pendulum swung protect patent copyright holder stifl progress prevent inventor build come say tough patent protect isnt help unit state technolog leader japan west germani eight top 10 winner patent foreign compani isnt strengthen patent system strengthen nonresid ask ogden webster director eastman kodak patent law depart winner patent battlefield corn known corn glass work engin revolution commun 1970 invent optic fiber hairthin glass fiber transport voic pictur data puls laser light opticalfib cabl crisscross countri atlant pacif ocean corn anticip billion dollar revenu invent compani eye potenti market six year invent world convinc use corn creation compani found tri enforc patent corn su american dutch japanes competitor su govern buy fiber competitor juli 1976 earlier compani immers patent enforc lawsuit compani won numer settlement sumitomo electr industri japan remain holdout japanes compani built factori research triangl park nc make fiber corn won court order octob 1987 forc sumitomo stop make optic fiber north carolina plant sumitomo allow make cabl fiber competitor damag portion patent infring trial pend today corn domin produc corn believ patent system part research activ work good al michaelsen corn chief patent lawyer corn experi politician govern offici hear look futur abil compet success go depend brainpow brawn michael kirk assist commission extern affair patent trademark offic report intern trade commiss estim compani lose 43 billion 61 billion inadequ foreign protect intellectu properti singapor taiwan thailand reportedli begun cleans reput piraci haven south korea major offend commiss say compani appli patent countri protect rule differ instanc itali refus grant patent new drug japan patent offic take five year averag issu patent 1 year unit state say donald j quigg commission patent trademark american inventor await patent japan legal protect forc share technolog competitor crosslicens agreement quigg complain easier japanes compani patent unit state exampl hitachi won patent american compani kirk help negoti minimum patent standard trade talk involv 100 nation hope agreement reach end 1990 countri biggest develop came 1982 creation feder appeal court washington devot sole intellectu properti disput court turn lower standard patent uphold patent kodak webster know court reject kodak appeal guilti verdict suit polaroid corp forc instant photographi aggress enforc patent right texa instrument earn royalti 1987 191 million did oper royalti account quarter profit lotu develop corp appl comput face critic heavyhand protect patent look feel product lotu 123 spreadsheet critic patent protect look feel equival patent gener motor corp protect arrang steer wheel brake ga pedal car reflect turmoil twothird big compani unit state canada europ enmesh litig intellectu properti right confer board survey estim'}}, {'_index': 'ap89_final', '_type': '_doc', '_id': 'AP890516-0188', '_score': 17.537218, '_source': {'_content': 'vatican tuesday urg author worldwid pass tough new law enforc exist one halt say alarm rise pornographi violenc media support boycot sponsor offend program right freedom express exist vacuum 13page document issu fiveyear studi pontif council social commun document titl pornographi violenc commun media pastor respons hold media vehicl warp outlook life famili religion moral legitim right free express free exchang inform respect right individu famili societi privaci public decenc protect basic valu sound law enact lack weak law strengthen exist law enforc document cite specif case name countri council presid american archbishop john p foley secretari italian monsignor pierfranco pastor declin news confer identifi specif film program public consid pornograph identifi particular countri foley critic film kung fu movi depict violenc violenc scene individu appear enjoy inflict physic harm type violenc disgust give individu terribl idea act soap opera tv offer latin america explicit unit state suggest dramat program certainli reflect moral evil part realiti shouldnt glamor evil make evil desir document condemn pornographi violat human digniti right christian valu media lure profit tragic succumb temptat exploit human weak pornographi sadist violenc debas sexual corrod human relationship exploit individu undermin marriag famili life foster antisoci behavior weaken moral fiber societi softcor pornographi progress desensit affect gradual render individu moral numb person insensit right digniti exposur pornographi exposur narcot habit form lead individu seek increasingli hardcor pervers materi foley church want express solidar famili particularli women feel special victim pornographi violenc media church support group unit state organ boycott sponsor program consid offens right feel thing damag children duti foley media polic profession code church need maintain clear constant teach faith parent children healthi attitud sexual basic sex educ fundament reason spread pornographi violenc media pervas moral permiss root search person gratif cost council sexual activ consid continu frenzi search person gratif express endur love marriag pornographi consid factor contribut undermin wholesom famili life council will particip produc dissemin pornographi judg seriou moral evil'}}]}}\n"
     ]
    },
    {
     "name": "stderr",
     "output_type": "stream",
     "text": [
      "/tmp/ipykernel_278664/2241834741.py:14: DeprecationWarning: The 'body' parameter is deprecated for the 'search' API and will be removed in a future version. Instead use API parameters directly. See https://github.com/elastic/elasticsearch-py/issues/1698 for more information\n",
      "  response = es.search(index=\"ap89_final\", body=query)\n"
     ]
    }
   ],
   "source": [
    "from tokenizer import porter_processing\n",
    "\n",
    "query_processed = porter_processing(\"identify individuals or organizations which produce fiber optics equipment.\")\n",
    "\n",
    "query = {\n",
    "  \"query\": {\n",
    "    \"match\": {\n",
    "      \"_content\": query_processed\n",
    "    }\n",
    "  }\n",
    "}\n",
    "\n",
    "# Replace 'your_index_name' with the name of your index\n",
    "response = es.search(index=\"ap89_final\", body=query)\n",
    "\n",
    "file_path = 'queryresp_mod.json'\n",
    "\n",
    "with open(file_path, 'w') as file:\n",
    "    json.dump(response, file, indent=2)\n",
    "print(response)\n",
    "# Print the returned documents\n",
    "# for hit in response['hits']['hits']:\n",
    "#     print(hit['_source'])  # Prints out the source of each hit"
   ]
  },
  {
   "cell_type": "code",
   "execution_count": 4,
   "metadata": {},
   "outputs": [],
   "source": [
    "# Getting a list of all the documents\n",
    "import re\n",
    "\n",
    "def documentid_fetcher():\n",
    "\n",
    "    document_list = []\n",
    "    file_path = \"/home/burpcat/Documents/assignments/ir/hw1-burpcat/IR_data/AP_DATA/doclist_new_0609.txt\"\n",
    "\n",
    "    with open(file_path, 'r') as file:\n",
    "        for line in file:\n",
    "            document_list.append(line.split()[1])\n",
    "            \n",
    "        return document_list"
   ]
  },
  {
   "cell_type": "code",
   "execution_count": 6,
   "metadata": {},
   "outputs": [],
   "source": [
    "document_list = documentid_fetcher()\n",
    "\n",
    "def get_term_vectors_batch(index_name, document_list, batch_size=50):\n",
    "    responses = []  # List to store responses\n",
    "    for i in range(0, len(document_list), batch_size):\n",
    "        batch = document_list[i:i + batch_size]\n",
    "        response = es.mtermvectors(index=index_name, term_statistics=True, ids=batch, fields=[\"_content\"])\n",
    "        responses.append(response)\n",
    "    return responses\n",
    "\n",
    "all_responses = get_term_vectors_batch(\"ap89_final\", document_list, batch_size=50)"
   ]
  },
  {
   "cell_type": "code",
   "execution_count": 12,
   "metadata": {},
   "outputs": [],
   "source": [
    "number_of_documents = len(document_list)\n",
    "documents_and_vectors = {}\n",
    "documents_and_documentlength = {}\n",
    "term_to_docfrequency = {}\n",
    "termtotalfrequency = {}\n",
    "terms_list = set()\n",
    "\n",
    "def extracting_termvectors(all_responses):\n",
    "    for ele in all_responses:\n",
    "        term_vector = ele['docs']\n",
    "        document_id = term_vector[0][\"_id\"]\n",
    "\n",
    "        if \"_content\" not in term_vector[0][\"term_vectors\"]:\n",
    "            documents_and_vectors[document_id] = {}\n",
    "            documents_and_documentlength = {}\n",
    "        else:\n",
    "            terms = term_vector[0][\"term_vectors\"][\"_content\"][\"terms\"]\n",
    "\n",
    "            for term in terms:\n",
    "                term_to_docfrequency[term] = terms[term]['doc_freq']\n",
    "                termtotalfrequency[term] = terms[term]['ttf']\n",
    "\n",
    "            documents_and_vectors[document_id] = terms\n",
    "            # documents_and_documentlength[document_id] = sum([terms[x]['term_freq'] for x in terms])\n",
    "\n",
    "            terms_list.add(term)\n"
   ]
  },
  {
   "cell_type": "code",
   "execution_count": 13,
   "metadata": {},
   "outputs": [],
   "source": [
    "extracting_termvectors(all_responses)"
   ]
  },
  {
   "cell_type": "code",
   "execution_count": 18,
   "metadata": {},
   "outputs": [],
   "source": [
    "# avg_doc_length = sum([documents_and_documentlength[ele] for ele in document_list])  / number_of_documents\n",
    "total_doc_length = sum([documents_and_documentlength[ele] for ele in documents_and_documentlength])\n",
    "vocab_size = len(terms_list)"
   ]
  },
  {
   "cell_type": "code",
   "execution_count": 19,
   "metadata": {},
   "outputs": [],
   "source": [
    "# Return document frequency for a term\n",
    "\n",
    "def documentfrequency(term):\n",
    "    if term in term_to_docfrequency:\n",
    "        return term_to_docfrequency[term]\n",
    "    else:\n",
    "        return 0\n",
    "\n",
    "def termfrequency(term,document_id):\n",
    "    if term in documents_and_vectors[document_id]:\n",
    "        return documents_and_vectors[document_id][term]['term_freq']\n",
    "    else:\n",
    "        return 0\n",
    "    \n",
    "def termfrequency_in_query(term,query):\n",
    "    return query.count(term)"
   ]
  },
  {
   "cell_type": "code",
   "execution_count": null,
   "metadata": {},
   "outputs": [],
   "source": []
  }
 ],
 "metadata": {
  "kernelspec": {
   "display_name": ".irenv",
   "language": "python",
   "name": "python3"
  },
  "language_info": {
   "codemirror_mode": {
    "name": "ipython",
    "version": 3
   },
   "file_extension": ".py",
   "mimetype": "text/x-python",
   "name": "python",
   "nbconvert_exporter": "python",
   "pygments_lexer": "ipython3",
   "version": "3.11.6"
  }
 },
 "nbformat": 4,
 "nbformat_minor": 2
}
